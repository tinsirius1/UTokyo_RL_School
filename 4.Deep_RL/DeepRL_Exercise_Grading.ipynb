{
 "cells": [
  {
   "cell_type": "markdown",
   "metadata": {},
   "source": [
    "# DO NOT SUBMIT THIS NOTEBOOK"
   ]
  },
  {
   "cell_type": "code",
   "execution_count": null,
   "metadata": {},
   "outputs": [],
   "source": [
    "import torch\n",
    "import gym\n",
    "import torch.nn as nn\n",
    "import numpy as np\n",
    "import random\n",
    "device = torch.device(\"cuda\" if torch.cuda.is_available() else \"cpu\")\n",
    "\n",
    "def set_seed(env, seed):\n",
    "    torch.manual_seed(seed)\n",
    "    np.random.seed(seed)\n",
    "    random.seed(seed)\n",
    "    env.reset(seed = seed)"
   ]
  },
  {
   "cell_type": "code",
   "execution_count": null,
   "metadata": {},
   "outputs": [],
   "source": [
    "class DQN(nn.Module):\n",
    "    def __init__(self):\n",
    "        super(DQN, self).__init__()\n",
    "        self.layers = None\n",
    "        \n",
    "    def forward(self, x):\n",
    "        return self.layers(x)\n",
    "    \n",
    "class DQNAgent(object):\n",
    "    \n",
    "    def __init__(self):\n",
    "\n",
    "        self.action_value_net = DQN().to(device)\n",
    "                     \n",
    "    def obtain_action(self, state, action_space_dim, epsilon):\n",
    "        with torch.no_grad():\n",
    "            cur_q = self.action_value_net(torch.from_numpy(state).float().to(device))\n",
    "        q_value, action = torch.max(cur_q, axis=0)\n",
    "        action = action if torch.rand(1,).item() > epsilon else torch.randint(0, action_space_dim, (1,)).item()\n",
    "        action = torch.tensor([action]).to(device)\n",
    "        return action\n",
    "    \n",
    "    def get_next_q(self, state):\n",
    "        return None\n",
    "    \n",
    "    def optimize(self, batch):\n",
    "        return None\n",
    "    \n",
    "    def transfer_parameters(self):\n",
    "        return None"
   ]
  },
  {
   "cell_type": "code",
   "execution_count": null,
   "metadata": {},
   "outputs": [],
   "source": [
    "# Test your network here\n",
    "file_name = 'DeepRL_Exercise.pt'\n",
    "my_agent = torch.load(file_name, map_location=device)\n",
    "print(f\"For sanity check, this is your network architecture:\\n\\n{my_agent.action_value_net.layers}\")\n",
    "my_env = gym.make(\"LunarLander-v2\")\n",
    "n_trials = 100\n",
    "\n",
    "print(\"\\n\\nRunning 100 trials ...\")\n",
    "\n",
    "def run_trial(my_env, num_trials, my_agent):\n",
    "    list_rewards = []\n",
    "    set_seed(my_env, my_agent.seed)\n",
    "    for i in range(num_trials):\n",
    "        observation = my_env.reset()[0]\n",
    "        ep_return = 0\n",
    "        is_finished = False\n",
    "        while not is_finished:\n",
    "            action = my_agent.obtain_action(observation, 4, 0.01)\n",
    "            observation, reward, done, truncated, _ = my_env.step(action.item())\n",
    "            is_finished = done or truncated\n",
    "            ep_return += reward\n",
    "        list_rewards.append(ep_return)\n",
    "        \n",
    "    return np.round(np.mean(list_rewards),2), np.round(np.std(list_rewards), 2)\n",
    "\n",
    "mean_return, std_return = run_trial(my_env, n_trials, my_agent)\n",
    "print(f\"Done.\\n\\nAverage return {mean_return} +- {std_return}\")"
   ]
  },
  {
   "cell_type": "markdown",
   "metadata": {},
   "source": [
    "### Grading scheme\n",
    "\n",
    "| Avg. Return | Marks       |\n",
    "| ----------- | ----------- |\n",
    "| < 0         | 1  pt       |\n",
    "| [0,50)      | 2  pts      |\n",
    "| [50, 100)   | 3  pts      |\n",
    "| [100, 150)  | 4  pts      |\n",
    "| [150, 200)  | 5  pts      |\n",
    "| ≥ 200       | 6  pts      |"
   ]
  },
  {
   "cell_type": "code",
   "execution_count": null,
   "metadata": {},
   "outputs": [],
   "source": [
    "import otter\n",
    "grader = otter.Notebook(tests_dir = \"DeepRL_Support/tests\")\n",
    "grader.check_all()"
   ]
  }
 ],
 "metadata": {
  "kernelspec": {
   "display_name": "Python 3",
   "language": "python",
   "name": "python3"
  },
  "language_info": {
   "codemirror_mode": {
    "name": "ipython",
    "version": 3
   },
   "file_extension": ".py",
   "mimetype": "text/x-python",
   "name": "python",
   "nbconvert_exporter": "python",
   "pygments_lexer": "ipython3",
   "version": "3.8.10"
  }
 },
 "nbformat": 4,
 "nbformat_minor": 4
}
