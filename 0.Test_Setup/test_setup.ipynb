{
 "cells": [
  {
   "cell_type": "markdown",
   "metadata": {
    "cell_id": "488030e31dec46b6a9fe5ea407f78e33",
    "deepnote_cell_height": 218.60000610351562,
    "deepnote_cell_type": "markdown",
    "owner_user_id": "8979978f-05a8-4af3-84d3-b89b8c07f6ef",
    "tags": []
   },
   "source": [
    "You may also find these commands useful when using the notebook:\n",
    "- \"Ctrl\" + \"/\" to comment/uncomment\n",
    "- \"Shift\" + \"Enter\" to run the block\n",
    "\n",
    "To make sure that your notebook instance has been created correctly, please execute the code below.\n",
    "\n",
    "You should see the secret message as you move the slider to the end."
   ]
  },
  {
   "cell_type": "code",
   "execution_count": null,
   "metadata": {},
   "outputs": [],
   "source": [
    "%matplotlib inline\n",
    "from NotebookChecker import NotebookChecker\n",
    "NotebookChecker()"
   ]
  }
 ],
 "metadata": {
  "deepnote": {},
  "deepnote_execution_queue": [],
  "deepnote_notebook_id": "d0257516-c81b-4049-9b98-e46a4351f2fa",
  "kernelspec": {
   "display_name": "Python 3 (ipykernel)",
   "language": "python",
   "name": "python3"
  },
  "language_info": {
   "codemirror_mode": {
    "name": "ipython",
    "version": 3
   },
   "file_extension": ".py",
   "mimetype": "text/x-python",
   "name": "python",
   "nbconvert_exporter": "python",
   "pygments_lexer": "ipython3",
   "version": "3.8.10"
  }
 },
 "nbformat": 4,
 "nbformat_minor": 4
}
